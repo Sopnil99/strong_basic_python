{
  "cells": [
    {
      "cell_type": "markdown",
      "source": [
        "Set-**1**"
      ],
      "metadata": {
        "id": "zGxmSYErR0XV"
      }
    },
    {
      "cell_type": "markdown",
      "metadata": {
        "id": "OP53kkFvQ0JE"
      },
      "source": [
        "1. Write a program to find the sum of all numbers from 1 to N.\n",
        "\n"
      ]
    },
    {
      "cell_type": "code",
      "execution_count": null,
      "metadata": {
        "colab": {
          "base_uri": "https://localhost:8080/"
        },
        "id": "wqO5PBkD_9tc",
        "outputId": "0e65a349-9433-43b2-f858-b3795c72a0da"
      },
      "outputs": [
        {
          "name": "stdout",
          "output_type": "stream",
          "text": [
            "Enter a number: 50\n",
            "The sum of all numbers from 1 to 50 is: 1275\n"
          ]
        }
      ],
      "source": [
        "n = int(input(\"Enter a number: \"))\n",
        "sum = 0\n",
        "for i in range(1, n+1):\n",
        "    sum += i\n",
        "print(\"The sum of all numbers from 1 to\", n, \"is:\", sum)\n"
      ]
    },
    {
      "cell_type": "markdown",
      "metadata": {
        "id": "oBwiSf9sQ21q"
      },
      "source": [
        "\n",
        "\n",
        "2. Given a list of integers, find the maximum and minimum elements.\n",
        "\n"
      ]
    },
    {
      "cell_type": "code",
      "execution_count": null,
      "metadata": {
        "colab": {
          "base_uri": "https://localhost:8080/"
        },
        "id": "evFijNIcBgnP",
        "outputId": "97050d62-df54-43f7-dae7-b46372e87fa7"
      },
      "outputs": [
        {
          "name": "stdout",
          "output_type": "stream",
          "text": [
            "The maximum element is: 10\n",
            "The minimum element is: 2\n"
          ]
        }
      ],
      "source": [
        "lst = [5, 10, 2, 8, 3]\n",
        "max_num = lst[0]\n",
        "min_num = lst[0]\n",
        "for num in lst:\n",
        "    if num > max_num:\n",
        "        max_num = num\n",
        "    if num < min_num:\n",
        "        min_num = num\n",
        "print(\"The maximum element is:\", max_num)\n",
        "print(\"The minimum element is:\", min_num)\n",
        "\n"
      ]
    },
    {
      "cell_type": "markdown",
      "metadata": {
        "id": "PwHUDrqwQ2xH"
      },
      "source": [
        "\n",
        "\n",
        "3. Write a program to check if a given number is prime.\n",
        "\n"
      ]
    },
    {
      "cell_type": "code",
      "execution_count": null,
      "metadata": {
        "colab": {
          "base_uri": "https://localhost:8080/"
        },
        "id": "-VbIzmtmDizv",
        "outputId": "2cb204b3-9ab7-46be-d17f-ad3ec79f3bf9"
      },
      "outputs": [
        {
          "name": "stdout",
          "output_type": "stream",
          "text": [
            "Enter a number: 25\n",
            "25 is not a prime number\n"
          ]
        }
      ],
      "source": [
        "num = int(input(\"Enter a number: \"))\n",
        "if num > 1:\n",
        "    for i in range(2, int(num/2)+1):\n",
        "        if (num % i) == 0:\n",
        "            print(num, \"is not a prime number\")\n",
        "            break\n",
        "    else:\n",
        "        print(num, \"is a prime number\")\n",
        "else:\n",
        "    print(num, \"is not a prime number\")\n"
      ]
    },
    {
      "cell_type": "markdown",
      "metadata": {
        "id": "hGctshUsQ2uL"
      },
      "source": [
        "\n",
        "\n",
        "4. Find the factorial of a given number."
      ]
    },
    {
      "cell_type": "code",
      "execution_count": null,
      "metadata": {
        "colab": {
          "base_uri": "https://localhost:8080/"
        },
        "id": "obMEFIxUiZhv",
        "outputId": "e5527fff-6b14-427e-bd79-22c83dbd47b7"
      },
      "outputs": [
        {
          "name": "stdout",
          "output_type": "stream",
          "text": [
            "720\n"
          ]
        }
      ],
      "source": [
        "def factorial(num):\n",
        "    if num == 0:\n",
        "        return 1\n",
        "    else:\n",
        "        return num * factorial(num - 1)\n",
        "\n",
        "# example usage\n",
        "print(factorial(6))\n"
      ]
    },
    {
      "cell_type": "markdown",
      "metadata": {
        "id": "l-dAIM3dQ2ra"
      },
      "source": [
        "5. Count the number of vowels in a string.\n",
        "\n"
      ]
    },
    {
      "cell_type": "code",
      "execution_count": null,
      "metadata": {
        "colab": {
          "base_uri": "https://localhost:8080/"
        },
        "id": "-myZCgGPi4Me",
        "outputId": "f21e7617-3456-433c-a682-7a0659c2511a"
      },
      "outputs": [
        {
          "name": "stdout",
          "output_type": "stream",
          "text": [
            "3\n"
          ]
        }
      ],
      "source": [
        "def count_vowels(string):\n",
        "    vowels = \"aeiouAEIOU\"\n",
        "    count = 0\n",
        "    for char in string:\n",
        "        if char in vowels:\n",
        "            count += 1\n",
        "    return count\n",
        "\n",
        "# example usage\n",
        "print(count_vowels(\"Hello World\"))\n"
      ]
    },
    {
      "cell_type": "markdown",
      "metadata": {
        "id": "9AZJAiHtQ2oU"
      },
      "source": [
        "\n",
        "6. Check if a given string is a palindrome.\n",
        "\n"
      ]
    },
    {
      "cell_type": "code",
      "execution_count": null,
      "metadata": {
        "colab": {
          "base_uri": "https://localhost:8080/"
        },
        "id": "ZrXOhCd8jHpq",
        "outputId": "2bd7108c-ebbc-4cfd-a221-29787b47eb2e"
      },
      "outputs": [
        {
          "name": "stdout",
          "output_type": "stream",
          "text": [
            "True\n"
          ]
        }
      ],
      "source": [
        "def is_palindrome(string):\n",
        "    return string == string[::-1]\n",
        "\n",
        "# example usage\n",
        "print(is_palindrome(\"racecar\"))\n"
      ]
    },
    {
      "cell_type": "markdown",
      "metadata": {
        "id": "aDW94rXiQ2kD"
      },
      "source": [
        "\n",
        "\n",
        "7. Reverse a given list of integers.\n",
        "\n"
      ]
    },
    {
      "cell_type": "code",
      "execution_count": null,
      "metadata": {
        "colab": {
          "base_uri": "https://localhost:8080/"
        },
        "id": "hBWeYP1dlPTz",
        "outputId": "ba9572d5-8789-4164-dafc-0323c1a0193b"
      },
      "outputs": [
        {
          "name": "stdout",
          "output_type": "stream",
          "text": [
            "[5, 4, 3, 2, 1]\n"
          ]
        }
      ],
      "source": [
        "lst = [1, 2, 3, 4, 5]\n",
        "lst.reverse()\n",
        "print(lst)\n"
      ]
    },
    {
      "cell_type": "markdown",
      "metadata": {
        "id": "K03CTmfPQ2h3"
      },
      "source": [
        "\n",
        "8. Find the second largest element in a list of integers.\n",
        "\n"
      ]
    },
    {
      "cell_type": "code",
      "execution_count": null,
      "metadata": {
        "colab": {
          "base_uri": "https://localhost:8080/"
        },
        "id": "0y7RDG9LlhuB",
        "outputId": "3d4bddee-ba86-4f74-a6a1-274aeffa2fd9"
      },
      "outputs": [
        {
          "name": "stdout",
          "output_type": "stream",
          "text": [
            "6\n"
          ]
        }
      ],
      "source": [
        "def second_largest(lst):\n",
        "    lst.sort(reverse=True)\n",
        "    return lst[1]\n",
        "\n",
        "# example usage\n",
        "print(second_largest([1, 5, 2, 9, 6]))\n"
      ]
    },
    {
      "cell_type": "markdown",
      "metadata": {
        "id": "Kgn7sagPQ2fl"
      },
      "source": [
        "\n",
        "\n",
        "9. Write a program to remove duplicates from a list.\n",
        "\n"
      ]
    },
    {
      "cell_type": "code",
      "execution_count": null,
      "metadata": {
        "colab": {
          "base_uri": "https://localhost:8080/"
        },
        "id": "scxnijwpmXOU",
        "outputId": "c83f0878-cd7b-447f-9067-6d190519dbc5"
      },
      "outputs": [
        {
          "name": "stdout",
          "output_type": "stream",
          "text": [
            "[1, 2, 3, 4, 5]\n"
          ]
        }
      ],
      "source": [
        "def remove_duplicates(lst):\n",
        "    return list(set(lst))\n",
        "\n",
        "# example usage\n",
        "print(remove_duplicates([1, 2, 2, 3, 4, 4, 5]))"
      ]
    },
    {
      "cell_type": "markdown",
      "metadata": {
        "id": "BXQwzAh1Q2ZI"
      },
      "source": [
        "\n",
        "\n",
        "10. Given a list of integers, find the average."
      ]
    },
    {
      "cell_type": "code",
      "execution_count": null,
      "metadata": {
        "colab": {
          "base_uri": "https://localhost:8080/"
        },
        "id": "AwYAOawvm0BK",
        "outputId": "7c966911-d3d0-4b45-d4eb-dfb6f7cd014b"
      },
      "outputs": [
        {
          "name": "stdout",
          "output_type": "stream",
          "text": [
            "3.0\n"
          ]
        }
      ],
      "source": [
        "def average(lst):\n",
        "    return sum(lst) / len(lst)\n",
        "\n",
        "# example usage\n",
        "print(average([1, 2, 3, 4, 5]))\n"
      ]
    },
    {
      "cell_type": "markdown",
      "metadata": {
        "id": "KxBMnaPPQ2Si"
      },
      "source": [
        "11. Check if the two lists are equal.\n",
        "\n"
      ]
    },
    {
      "cell_type": "code",
      "execution_count": null,
      "metadata": {
        "colab": {
          "base_uri": "https://localhost:8080/"
        },
        "id": "VW1f_G0-nMiD",
        "outputId": "3a1eb6e3-8a5d-47c9-9b5d-e81bb4b65e2f"
      },
      "outputs": [
        {
          "name": "stdout",
          "output_type": "stream",
          "text": [
            "True\n",
            "False\n"
          ]
        }
      ],
      "source": [
        "def are_lists_equal(lst1, lst2):\n",
        "    return lst1 == lst2\n",
        "\n",
        "# example usage\n",
        "print(are_lists_equal([1, 2, 3], [1, 2, 3]))\n",
        "print(are_lists_equal([1, 2, 3], [3, 2, 1]))\n"
      ]
    },
    {
      "cell_type": "markdown",
      "metadata": {
        "id": "Zg0U_TujQ2Pc"
      },
      "source": [
        "\n",
        "\n",
        "12. Find the intersection of two lists.\n",
        "\n"
      ]
    },
    {
      "cell_type": "code",
      "execution_count": null,
      "metadata": {
        "colab": {
          "base_uri": "https://localhost:8080/"
        },
        "id": "KkJhxC06nZJW",
        "outputId": "65b28fd2-99d0-4dcd-b00d-2c3f0902f1a8"
      },
      "outputs": [
        {
          "name": "stdout",
          "output_type": "stream",
          "text": [
            "[2, 3]\n"
          ]
        }
      ],
      "source": [
        "def find_intersection(lst1, lst2):\n",
        "    set1 = set(lst1)\n",
        "    set2 = set(lst2)\n",
        "    return list(set1.intersection(set2))\n",
        "\n",
        "# example usage\n",
        "print(find_intersection([1, 2, 3], [2, 3, 4]))\n"
      ]
    },
    {
      "cell_type": "markdown",
      "metadata": {
        "id": "yfzZBj79RpuD"
      },
      "source": [
        "\n",
        "13. Given a list of integers, remove all the even numbers.\n",
        "\n"
      ]
    },
    {
      "cell_type": "code",
      "execution_count": null,
      "metadata": {
        "colab": {
          "base_uri": "https://localhost:8080/"
        },
        "id": "qf6pwWTnoHIg",
        "outputId": "e24b33d2-d851-4ee4-930f-eee43322842c"
      },
      "outputs": [
        {
          "name": "stdout",
          "output_type": "stream",
          "text": [
            "[1, 3, 5]\n"
          ]
        }
      ],
      "source": [
        "def remove_even(lst):\n",
        "    return [x for x in lst if x % 2 != 0]\n",
        "\n",
        "# example usage\n",
        "print(remove_even([1, 2, 3, 4, 5, 6]))\n"
      ]
    },
    {
      "cell_type": "markdown",
      "metadata": {
        "id": "2MOI1Z4BRp1T"
      },
      "source": [
        "\n",
        "\n",
        "14. Given a list of strings, concatenate them into a single string.\n",
        "\n"
      ]
    },
    {
      "cell_type": "code",
      "execution_count": null,
      "metadata": {
        "colab": {
          "base_uri": "https://localhost:8080/"
        },
        "id": "MRDPXdztpC9-",
        "outputId": "02e9a09a-4841-4d07-c9d4-7aabef55995c"
      },
      "outputs": [
        {
          "name": "stdout",
          "output_type": "stream",
          "text": [
            "helloworld\n"
          ]
        }
      ],
      "source": [
        "def concatenate_strings(lst):\n",
        "    return ''.join(lst)\n",
        "\n",
        "# example usage\n",
        "print(concatenate_strings(['hello', 'world']))\n"
      ]
    },
    {
      "cell_type": "markdown",
      "metadata": {
        "id": "iS__HDBXRwOZ"
      },
      "source": [
        "\n",
        "\n",
        "15. Find the number of occurrences of a specific element in a list."
      ]
    },
    {
      "cell_type": "code",
      "execution_count": null,
      "metadata": {
        "colab": {
          "base_uri": "https://localhost:8080/"
        },
        "id": "dLLaARPppcZZ",
        "outputId": "e06a41fe-7e93-423c-b023-b3a75db495e8"
      },
      "outputs": [
        {
          "name": "stdout",
          "output_type": "stream",
          "text": [
            "3\n"
          ]
        }
      ],
      "source": [
        "def count_occurrences(lst, x):\n",
        "    return lst.count(x)\n",
        "\n",
        "# example usage\n",
        "print(count_occurrences([1, 2, 3, 2, 4, 2], 2))\n"
      ]
    },
    {
      "cell_type": "markdown",
      "metadata": {
        "id": "5QgioEDMqFTx"
      },
      "source": [
        "16. Remove the duplicates from a string.\n",
        "\n"
      ]
    },
    {
      "cell_type": "code",
      "execution_count": null,
      "metadata": {
        "colab": {
          "base_uri": "https://localhost:8080/"
        },
        "id": "_xAL2P47srKc",
        "outputId": "72e5cc53-f2d6-4813-d43e-14cd9e01ad88"
      },
      "outputs": [
        {
          "name": "stdout",
          "output_type": "stream",
          "text": [
            "uomaMUst\n"
          ]
        }
      ],
      "source": [
        "def remove_duplicates(s):\n",
        "    return ''.join(set(s))\n",
        "\n",
        "# example usage\n",
        "print(remove_duplicates('MasumUtsso'))\n"
      ]
    },
    {
      "cell_type": "markdown",
      "metadata": {
        "id": "lELypOjfqFPG"
      },
      "source": [
        "\n",
        "\n",
        "17. Count the number of words in a sentence.\n",
        "\n",
        "."
      ]
    },
    {
      "cell_type": "code",
      "execution_count": null,
      "metadata": {
        "colab": {
          "base_uri": "https://localhost:8080/"
        },
        "id": "Z8TZxbMCtp01",
        "outputId": "58950b65-eecc-47a6-dc6a-b38521dbeae2"
      },
      "outputs": [
        {
          "name": "stdout",
          "output_type": "stream",
          "text": [
            "4\n"
          ]
        }
      ],
      "source": [
        "def count_words(s):\n",
        "    return len(s.split())\n",
        "\n",
        "# example usage\n",
        "print(count_words('This is a sentence.'))\n"
      ]
    },
    {
      "cell_type": "markdown",
      "metadata": {
        "id": "xwVUe3F9qFLQ"
      },
      "source": [
        "\n",
        "\n",
        "18. Write a program to check if a given string is a pangram.\n",
        "\n"
      ]
    },
    {
      "cell_type": "code",
      "execution_count": null,
      "metadata": {
        "colab": {
          "base_uri": "https://localhost:8080/"
        },
        "id": "Pbz8aBMztz1V",
        "outputId": "ceb0574a-5038-4e39-f731-4b1a760d6888"
      },
      "outputs": [
        {
          "name": "stdout",
          "output_type": "stream",
          "text": [
            "True\n"
          ]
        }
      ],
      "source": [
        "import string\n",
        "\n",
        "def is_pangram(s):\n",
        "    alphabet = set(string.ascii_lowercase)\n",
        "    return set(s.lower()) >= alphabet\n",
        "\n",
        "# example usage\n",
        "print(is_pangram('The quick brown fox jumps over the lazy dog'))\n"
      ]
    },
    {
      "cell_type": "markdown",
      "metadata": {
        "id": "VZ0aE5s1qFEZ"
      },
      "source": [
        "19. Calculate the sum of digits in a number.\n",
        "\n"
      ]
    },
    {
      "cell_type": "code",
      "execution_count": null,
      "metadata": {
        "colab": {
          "base_uri": "https://localhost:8080/"
        },
        "id": "9vlwEEZrt9jX",
        "outputId": "14e4d912-419b-4bf4-fa8c-2329df8898ea"
      },
      "outputs": [
        {
          "name": "stdout",
          "output_type": "stream",
          "text": [
            "15\n"
          ]
        }
      ],
      "source": [
        "def sum_of_digits(n):\n",
        "    return sum(int(digit) for digit in str(n))\n",
        "\n",
        "# example usage\n",
        "print(sum_of_digits(12345))\n"
      ]
    },
    {
      "cell_type": "markdown",
      "metadata": {
        "id": "696oh2N1qFAN"
      },
      "source": [
        "\n",
        "20. Given a list of integers, find the product of all the elements.\n",
        "\n"
      ]
    },
    {
      "cell_type": "code",
      "execution_count": null,
      "metadata": {
        "colab": {
          "base_uri": "https://localhost:8080/"
        },
        "id": "r8esdF6YugrF",
        "outputId": "d913e669-4613-488e-ffd0-97f8f255779a"
      },
      "outputs": [
        {
          "name": "stdout",
          "output_type": "stream",
          "text": [
            "120\n"
          ]
        }
      ],
      "source": [
        "def product_of_elements(lst):\n",
        "    product = 1\n",
        "    for num in lst:\n",
        "        product *= num\n",
        "    return product\n",
        "\n",
        "# example usage\n",
        "print(product_of_elements([1, 2, 3, 4, 5]))\n"
      ]
    },
    {
      "cell_type": "markdown",
      "metadata": {
        "id": "U2XrVpCBqElG"
      },
      "source": [
        "\n",
        "\n",
        "21. Check if a given number is a perfect square.\n",
        "\n"
      ]
    },
    {
      "cell_type": "code",
      "execution_count": null,
      "metadata": {
        "colab": {
          "base_uri": "https://localhost:8080/"
        },
        "id": "SVq-7onbuzfY",
        "outputId": "6f201995-6964-44d7-a8b0-80d078f255c1"
      },
      "outputs": [
        {
          "name": "stdout",
          "output_type": "stream",
          "text": [
            "True\n"
          ]
        }
      ],
      "source": [
        "import math\n",
        "\n",
        "def is_perfect_square(n):\n",
        "    root = math.sqrt(n)\n",
        "    return root == int(root)\n",
        "\n",
        "# example usage\n",
        "print(is_perfect_square(16))\n"
      ]
    },
    {
      "cell_type": "markdown",
      "metadata": {
        "id": "ecvYHsQoqEh5"
      },
      "source": [
        "\n",
        "\n",
        "22. Find the length of the longest word in a sentence.\n"
      ]
    },
    {
      "cell_type": "code",
      "execution_count": null,
      "metadata": {
        "colab": {
          "base_uri": "https://localhost:8080/"
        },
        "id": "Q49C95TmvDGo",
        "outputId": "e90da04e-d55e-4df1-ad41-210b7937fd8d"
      },
      "outputs": [
        {
          "name": "stdout",
          "output_type": "stream",
          "text": [
            "5\n"
          ]
        }
      ],
      "source": [
        "def longest_word_length(s):\n",
        "    words = s.split()\n",
        "    max_length = 0\n",
        "    for word in words:\n",
        "        if len(word) > max_length:\n",
        "            max_length = len(word)\n",
        "    return max_length\n",
        "\n",
        "# example usage\n",
        "print(longest_word_length('The quick brown fox jumps over the lazy dog'))\n"
      ]
    },
    {
      "cell_type": "markdown",
      "metadata": {
        "id": "4NfEP1p9qEeT"
      },
      "source": [
        "\n",
        "\n",
        "23. Calculate the average of all the even numbers in a list.\n",
        "\n"
      ]
    },
    {
      "cell_type": "code",
      "execution_count": null,
      "metadata": {
        "colab": {
          "base_uri": "https://localhost:8080/"
        },
        "id": "cx-HWm5zvmwa",
        "outputId": "7f283a8e-c86b-4b98-eda0-5f7ce12e68cd"
      },
      "outputs": [
        {
          "name": "stdout",
          "output_type": "stream",
          "text": [
            "3.0\n"
          ]
        }
      ],
      "source": [
        "def average_of_even_numbers(lst):\n",
        "    count = 0\n",
        "    total = 0\n",
        "    for num in lst:\n",
        "        if num % 2 == 0:\n",
        "            count += 1\n",
        "            total += num\n",
        "    if count == 0:\n",
        "        return 0\n",
        "    else:\n",
        "        return total / count\n",
        "\n",
        "# example usage\n",
        "print(average_of_even_numbers([1, 2, 3, 4, 5]))\n"
      ]
    },
    {
      "cell_type": "markdown",
      "metadata": {
        "id": "J8qs-OaKqEZU"
      },
      "source": [
        "\n",
        "\n",
        "24. Given a list of integers, find the median.\n",
        "\n"
      ]
    },
    {
      "cell_type": "code",
      "execution_count": null,
      "metadata": {
        "colab": {
          "base_uri": "https://localhost:8080/"
        },
        "id": "mxqnwRGNvwTf",
        "outputId": "77827839-8075-4cc5-de0f-e61e1acfe2c0"
      },
      "outputs": [
        {
          "name": "stdout",
          "output_type": "stream",
          "text": [
            "3\n"
          ]
        }
      ],
      "source": [
        "def median(lst):\n",
        "    sorted_lst = sorted(lst)\n",
        "    n = len(sorted_lst)\n",
        "    if n % 2 == 0:\n",
        "        return (sorted_lst[n//2-1] + sorted_lst[n//2]) / 2\n",
        "    else:\n",
        "        return sorted_lst[n//2]\n",
        "\n",
        "# example usage\n",
        "print(median([1, 2, 3, 4, 5]))\n"
      ]
    },
    {
      "cell_type": "markdown",
      "metadata": {
        "id": "U5uuBJCGqEUf"
      },
      "source": [
        "\n",
        "\n",
        "25. Check if a given string is an anagram of another string."
      ]
    },
    {
      "cell_type": "code",
      "execution_count": null,
      "metadata": {
        "colab": {
          "base_uri": "https://localhost:8080/"
        },
        "id": "iXHIsvEvv9wH",
        "outputId": "33ebeb2b-938a-47fb-cc98-d6f7e8b1f5bf"
      },
      "outputs": [
        {
          "name": "stdout",
          "output_type": "stream",
          "text": [
            "True\n"
          ]
        }
      ],
      "source": [
        "def is_anagram(s1, s2):\n",
        "    if len(s1) != len(s2):\n",
        "        return False\n",
        "    sorted_s1 = sorted(s1)\n",
        "    sorted_s2 = sorted(s2)\n",
        "    for i in range(len(s1)):\n",
        "        if sorted_s1[i] != sorted_s2[i]:\n",
        "            return False\n",
        "    return True\n",
        "\n",
        "# example usage\n",
        "print(is_anagram('listen', 'silent'))\n"
      ]
    },
    {
      "cell_type": "markdown",
      "metadata": {
        "id": "4poOmN8WqD3F"
      },
      "source": [
        "26. Write a program to reverse a string.\n",
        "\n"
      ]
    },
    {
      "cell_type": "code",
      "execution_count": null,
      "metadata": {
        "colab": {
          "base_uri": "https://localhost:8080/"
        },
        "id": "xTArfrQ3wOpd",
        "outputId": "5aadfddc-fc64-4531-b50b-2a4ccb6c471f"
      },
      "outputs": [
        {
          "name": "stdout",
          "output_type": "stream",
          "text": [
            "olleh\n"
          ]
        }
      ],
      "source": [
        "def reverse_string(s):\n",
        "    return s[::-1]\n",
        "\n",
        "# example usage\n",
        "print(reverse_string('hello'))\n"
      ]
    },
    {
      "cell_type": "markdown",
      "metadata": {
        "id": "LTt5Cy8mqDzw"
      },
      "source": [
        "\n",
        "27. Find the sum of all the even numbers between two given numbers.\n",
        "\n"
      ]
    },
    {
      "cell_type": "code",
      "execution_count": null,
      "metadata": {
        "colab": {
          "base_uri": "https://localhost:8080/"
        },
        "id": "GEHsPMxAwgUo",
        "outputId": "f99b9ce8-8be7-4470-ec82-8e3d55b004a7"
      },
      "outputs": [
        {
          "name": "stdout",
          "output_type": "stream",
          "text": [
            "30\n"
          ]
        }
      ],
      "source": [
        "def sum_of_even_numbers(a, b):\n",
        "    total = 0\n",
        "    for num in range(a, b+1):\n",
        "        if num % 2 == 0:\n",
        "            total += num\n",
        "    return total\n",
        "\n",
        "# example usage\n",
        "print(sum_of_even_numbers(1, 10))\n"
      ]
    },
    {
      "cell_type": "markdown",
      "metadata": {
        "id": "JJGknnTGqDsy"
      },
      "source": [
        "\n",
        "\n",
        "28. Given a list of strings, find the longest string.\n",
        "\n"
      ]
    },
    {
      "cell_type": "code",
      "execution_count": null,
      "metadata": {
        "colab": {
          "base_uri": "https://localhost:8080/"
        },
        "id": "xRQAx-DrwtPA",
        "outputId": "a38723c0-1bb0-4d22-a533-ed1d0ebe8eb8"
      },
      "outputs": [
        {
          "name": "stdout",
          "output_type": "stream",
          "text": [
            "python\n"
          ]
        }
      ],
      "source": [
        "def longest_string(lst):\n",
        "    return max(lst, key=len)\n",
        "\n",
        "# example usage\n",
        "print(longest_string(['hello', 'world', 'python']))\n"
      ]
    },
    {
      "cell_type": "markdown",
      "metadata": {
        "id": "0NKBwtwJqDKk"
      },
      "source": [
        "\n",
        "\n",
        "29. Remove all the special characters from a string.\n",
        "\n"
      ]
    },
    {
      "cell_type": "code",
      "execution_count": null,
      "metadata": {
        "colab": {
          "base_uri": "https://localhost:8080/"
        },
        "id": "GOCX1hZkw3xj",
        "outputId": "ff0a6431-a3be-4893-ea43-8ec6d7e3adee"
      },
      "outputs": [
        {
          "name": "stdout",
          "output_type": "stream",
          "text": [
            "hello123\n"
          ]
        }
      ],
      "source": [
        "def remove_special_characters(s):\n",
        "    return ''.join(c for c in s if c.isalnum())\n",
        "\n",
        "# example usage\n",
        "print(remove_special_characters('hello!@#$%123'))\n"
      ]
    },
    {
      "cell_type": "markdown",
      "metadata": {
        "id": "uRu_MZ5kqDH7"
      },
      "source": [
        "\n",
        "\n",
        "30. Calculate the power of a number.\n",
        "\n"
      ]
    },
    {
      "cell_type": "code",
      "execution_count": null,
      "metadata": {
        "colab": {
          "base_uri": "https://localhost:8080/"
        },
        "id": "izXezoxFxBK1",
        "outputId": "c2b93871-7b0a-439b-f428-551ac23c3b4b"
      },
      "outputs": [
        {
          "name": "stdout",
          "output_type": "stream",
          "text": [
            "8\n"
          ]
        }
      ],
      "source": [
        "# using the ** operator\n",
        "def power(base, exponent):\n",
        "    return base ** exponent\n",
        "\n",
        "# using the pow() function\n",
        "def power(base, exponent):\n",
        "    return pow(base, exponent)\n",
        "\n",
        "# example usage\n",
        "print(power(2, 3))\n"
      ]
    },
    {
      "cell_type": "markdown",
      "metadata": {
        "id": "WqOoO43TqDFW"
      },
      "source": [
        "\n",
        "\n",
        "31. Check if a given number is a palindrome.\n",
        "\n"
      ]
    },
    {
      "cell_type": "code",
      "execution_count": null,
      "metadata": {
        "colab": {
          "base_uri": "https://localhost:8080/"
        },
        "id": "ygmhqYo0xMJa",
        "outputId": "6975ccd8-1350-415b-fb3e-939ad7e6273f"
      },
      "outputs": [
        {
          "name": "stdout",
          "output_type": "stream",
          "text": [
            "True\n"
          ]
        }
      ],
      "source": [
        "def is_palindrome(num):\n",
        "    return str(num) == str(num)[::-1]\n",
        "\n",
        "# example usage\n",
        "print(is_palindrome(121))\n"
      ]
    },
    {
      "cell_type": "markdown",
      "metadata": {
        "id": "BA34nQCbqDB9"
      },
      "source": [
        "\n",
        "\n",
        "32. Given a list of integers, find the second smallest element.\n",
        "\n"
      ]
    },
    {
      "cell_type": "code",
      "execution_count": null,
      "metadata": {
        "colab": {
          "base_uri": "https://localhost:8080/"
        },
        "id": "1h1lMIiGxfxs",
        "outputId": "1ce06010-c3ab-4065-d918-5f0cd9afd543"
      },
      "outputs": [
        {
          "name": "stdout",
          "output_type": "stream",
          "text": [
            "2\n"
          ]
        }
      ],
      "source": [
        "def second_smallest(lst):\n",
        "    sorted_lst = sorted(lst)\n",
        "    return sorted_lst[1]\n",
        "\n",
        "# example usage\n",
        "print(second_smallest([3, 1, 4, 2, 5]))\n"
      ]
    },
    {
      "cell_type": "markdown",
      "metadata": {
        "id": "kgl0wrvgqC8P"
      },
      "source": [
        "\n",
        "\n",
        "33. Remove the vowels from a string."
      ]
    },
    {
      "cell_type": "code",
      "execution_count": null,
      "metadata": {
        "colab": {
          "base_uri": "https://localhost:8080/"
        },
        "id": "loEbwX58xv8L",
        "outputId": "5faefad6-bdbf-4604-e52e-f7959c95f7fd"
      },
      "outputs": [
        {
          "name": "stdout",
          "output_type": "stream",
          "text": [
            "hll wrld\n"
          ]
        }
      ],
      "source": [
        "def remove_vowels(s):\n",
        "    vowels = 'aeiouAEIOU'\n",
        "    return ''.join(c for c in s if c not in vowels)\n",
        "\n",
        "# example usage\n",
        "print(remove_vowels('hello world'))\n"
      ]
    },
    {
      "cell_type": "markdown",
      "metadata": {
        "id": "G9W0OaFqqC2R"
      },
      "source": [
        "34. Given a list of strings, find the number of words in each string.\n",
        "\n"
      ]
    },
    {
      "cell_type": "code",
      "execution_count": null,
      "metadata": {
        "colab": {
          "base_uri": "https://localhost:8080/"
        },
        "id": "PaxCHVxpyKZl",
        "outputId": "7f2c64df-9e2d-4e77-a719-bc53deb331ee"
      },
      "outputs": [
        {
          "name": "stdout",
          "output_type": "stream",
          "text": [
            "[2, 3, 3]\n"
          ]
        }
      ],
      "source": [
        "def count_words(lst):\n",
        "    return [len(s.split()) for s in lst]\n",
        "\n",
        "# example usage\n",
        "print(count_words(['hello world', 'how are you', 'python is awesome']))\n"
      ]
    },
    {
      "cell_type": "markdown",
      "metadata": {
        "id": "9RNRt2dMqCzn"
      },
      "source": [
        "\n",
        "\n",
        "35. Sort a list of integers in ascending order.\n",
        "\n"
      ]
    },
    {
      "cell_type": "code",
      "execution_count": null,
      "metadata": {
        "colab": {
          "base_uri": "https://localhost:8080/"
        },
        "id": "biG2VeqjyTZe",
        "outputId": "80b98b6b-b8f2-41c6-af3d-ffef1d6c5f90"
      },
      "outputs": [
        {
          "name": "stdout",
          "output_type": "stream",
          "text": [
            "[1, 2, 3, 4, 5]\n",
            "[1, 2, 3, 4, 5]\n"
          ]
        }
      ],
      "source": [
        "lst = [3, 1, 4, 2, 5]\n",
        "\n",
        "# using sorted() function\n",
        "sorted_lst = sorted(lst)\n",
        "print(sorted_lst) # output: [1, 2, 3, 4, 5]\n",
        "\n",
        "# using sort() method\n",
        "lst.sort()\n",
        "print(lst)\n"
      ]
    },
    {
      "cell_type": "markdown",
      "metadata": {
        "id": "gyFgcRAgqCs0"
      },
      "source": [
        "\n",
        "\n",
        "36. Check if all elements in a list are unique.\n",
        "\n"
      ]
    },
    {
      "cell_type": "code",
      "execution_count": null,
      "metadata": {
        "colab": {
          "base_uri": "https://localhost:8080/"
        },
        "id": "1jpenY0bydLx",
        "outputId": "62825f3f-c788-4da1-dc3e-3dcda00a1a34"
      },
      "outputs": [
        {
          "name": "stdout",
          "output_type": "stream",
          "text": [
            "True\n",
            "False\n"
          ]
        }
      ],
      "source": [
        "def is_unique(lst):\n",
        "    return len(lst) == len(set(lst))\n",
        "\n",
        "# example usage\n",
        "print(is_unique([1, 2, 3, 4, 5]))\n",
        "print(is_unique([1, 2, 3, 4, 4]))"
      ]
    },
    {
      "cell_type": "markdown",
      "metadata": {
        "id": "SwPxhg8CqCmP"
      },
      "source": [
        "\n",
        "\n",
        "37. Given a list of tuples, sort them based on the second element.\n",
        "\n"
      ]
    },
    {
      "cell_type": "code",
      "execution_count": null,
      "metadata": {
        "colab": {
          "base_uri": "https://localhost:8080/"
        },
        "id": "8dprDL0Gyrk4",
        "outputId": "ded7f54e-bbc3-437e-bdc0-f1615ea8c91f"
      },
      "outputs": [
        {
          "name": "stdout",
          "output_type": "stream",
          "text": [
            "[(2, 1), (4, 2), (1, 3), (3, 4)]\n",
            "[(2, 1), (4, 2), (1, 3), (3, 4)]\n"
          ]
        }
      ],
      "source": [
        "lst = [(1, 3), (2, 1), (3, 4), (4, 2)]\n",
        "\n",
        "# using sorted() function\n",
        "sorted_lst = sorted(lst, key=lambda x: x[1])\n",
        "print(sorted_lst) # output: [(2, 1), (4, 2), (1, 3), (3, 4)]\n",
        "\n",
        "# using sort() method\n",
        "lst.sort(key=lambda x: x[1])\n",
        "print(lst) # output: [(2, 1), (4, 2), (1, 3), (3, 4)]"
      ]
    },
    {
      "cell_type": "markdown",
      "metadata": {
        "id": "GTVasDFNrmg8"
      },
      "source": [
        "\n",
        "\n",
        "38. Remove the duplicates from a list of tuples.\n",
        "\n"
      ]
    },
    {
      "cell_type": "code",
      "execution_count": null,
      "metadata": {
        "colab": {
          "base_uri": "https://localhost:8080/"
        },
        "id": "YI_KJQ8Jy2pw",
        "outputId": "f5a4514e-48c4-4658-c00e-4941c11df396"
      },
      "outputs": [
        {
          "name": "stdout",
          "output_type": "stream",
          "text": [
            "[(1, 2), (3, 4), (5, 6)]\n"
          ]
        }
      ],
      "source": [
        "lst = [(1, 2), (3, 4), (1, 2), (5, 6)]\n",
        "\n",
        "unique_lst = list(set(lst))\n",
        "print(unique_lst)"
      ]
    },
    {
      "cell_type": "markdown",
      "metadata": {
        "id": "d9hQXcfHrm_K"
      },
      "source": [
        "\n",
        "\n",
        "39. Find the most frequent element in a list.\n"
      ]
    },
    {
      "cell_type": "code",
      "execution_count": null,
      "metadata": {
        "colab": {
          "base_uri": "https://localhost:8080/"
        },
        "id": "jPqNdv4ZzMSo",
        "outputId": "dc34e3e8-efb3-48d5-9424-31fda3df3f97"
      },
      "outputs": [
        {
          "name": "stdout",
          "output_type": "stream",
          "text": [
            "4\n"
          ]
        }
      ],
      "source": [
        "lst = [1, 2, 3, 4, 2, 3, 2, 4, 4, 4]\n",
        "\n",
        "most_frequent = max(set(lst), key=lambda x: lst.count(x))\n",
        "print(most_frequent)\n"
      ]
    },
    {
      "cell_type": "markdown",
      "metadata": {
        "id": "ub3H14PHrm44"
      },
      "source": [
        "\n",
        "\n",
        "40. Given two lists, find their common elements.\n",
        "\n"
      ]
    },
    {
      "cell_type": "code",
      "execution_count": null,
      "metadata": {
        "colab": {
          "base_uri": "https://localhost:8080/"
        },
        "id": "nCxwFMWnzVfa",
        "outputId": "7b094a46-851a-49ac-b8d6-3ef95d67782c"
      },
      "outputs": [
        {
          "name": "stdout",
          "output_type": "stream",
          "text": [
            "{4, 5}\n"
          ]
        }
      ],
      "source": [
        "lst1 = [1, 2, 3, 4, 5]\n",
        "lst2 = [4, 5, 6, 7, 8]\n",
        "\n",
        "common_elements = set(lst1).intersection(lst2)\n",
        "print(common_elements)\n"
      ]
    },
    {
      "cell_type": "markdown",
      "metadata": {
        "id": "gPByOhwqrm0d"
      },
      "source": [
        "\n",
        "\n",
        "41. Calculate the sum of all the odd numbers between two given numbers.\n",
        "\n"
      ]
    },
    {
      "cell_type": "code",
      "execution_count": null,
      "metadata": {
        "colab": {
          "base_uri": "https://localhost:8080/"
        },
        "id": "56mnMLWfzdbZ",
        "outputId": "2a160857-f49d-4cf1-f57d-0794b886c72e"
      },
      "outputs": [
        {
          "name": "stdout",
          "output_type": "stream",
          "text": [
            "25\n"
          ]
        }
      ],
      "source": [
        "start = 1\n",
        "end = 10\n",
        "\n",
        "sum_odd = 0\n",
        "for i in range(start, end+1):\n",
        "    if i % 2 != 0:\n",
        "        sum_odd += i\n",
        "\n",
        "print(sum_odd)\n"
      ]
    },
    {
      "cell_type": "markdown",
      "metadata": {
        "id": "4JYzJI3proP3"
      },
      "source": [
        "\n",
        "\n",
        "42. Check if a given string is a valid email address."
      ]
    },
    {
      "cell_type": "code",
      "execution_count": null,
      "metadata": {
        "colab": {
          "base_uri": "https://localhost:8080/"
        },
        "id": "B9uiyVtA1TCa",
        "outputId": "f4acfcc2-d560-4743-8219-ff12427e20a3"
      },
      "outputs": [
        {
          "name": "stdout",
          "output_type": "stream",
          "text": [
            "True\n",
            "False\n",
            "False\n"
          ]
        }
      ],
      "source": [
        "import re\n",
        "\n",
        "def is_valid_email(email):\n",
        "    pattern = r'^[a-zA-Z0-9._%+-]+@[a-zA-Z0-9.-]+\\.[a-zA-Z]{2,}$'\n",
        "    return re.match(pattern, email) is not None\n",
        "\n",
        "email1 = 'example@mail.com'\n",
        "email2 = 'example.mail.com'\n",
        "email3 = 'example@mail'\n",
        "\n",
        "print(is_valid_email(email1)) # output: True\n",
        "print(is_valid_email(email2)) # output: False\n",
        "print(is_valid_email(email3)) # output: False\n"
      ]
    },
    {
      "cell_type": "markdown",
      "metadata": {
        "id": "KeYF6Bsprp2L"
      },
      "source": [
        "43. Find the number of words starting with a specific letter in a sentence.\n",
        "\n"
      ]
    },
    {
      "cell_type": "code",
      "execution_count": null,
      "metadata": {
        "colab": {
          "base_uri": "https://localhost:8080/"
        },
        "id": "yB84fV-_1dP1",
        "outputId": "2e969c91-0a35-4f1f-9c63-423495f1c446"
      },
      "outputs": [
        {
          "name": "stdout",
          "output_type": "stream",
          "text": [
            "1\n"
          ]
        }
      ],
      "source": [
        "sentence = 'The quick brown fox jumps over the lazy dog'\n",
        "letter = 't'\n",
        "\n",
        "count = 0\n",
        "for word in sentence.split():\n",
        "    if word.startswith(letter):\n",
        "        count += 1\n",
        "\n",
        "print(count)\n",
        "\n"
      ]
    },
    {
      "cell_type": "markdown",
      "metadata": {
        "id": "zl6YQeCirpzK"
      },
      "source": [
        "\n",
        "\n",
        "44. Given a list of integers, find the third largest element.\n",
        "\n",
        "\n"
      ]
    },
    {
      "cell_type": "code",
      "execution_count": null,
      "metadata": {
        "colab": {
          "base_uri": "https://localhost:8080/"
        },
        "id": "hZmEJrkk1uZb",
        "outputId": "9e4a5ad7-29d5-4a7d-eaf2-045c983e1647"
      },
      "outputs": [
        {
          "name": "stdout",
          "output_type": "stream",
          "text": [
            "9\n"
          ]
        }
      ],
      "source": [
        "lst = [10, 5, 8, 20, 9]\n",
        "\n",
        "third_largest = sorted(lst, reverse=True)[2]\n",
        "print(third_largest)\n",
        "\n"
      ]
    },
    {
      "cell_type": "markdown",
      "metadata": {
        "id": "_h_ow0eRrpuc"
      },
      "source": [
        "\n",
        "\n",
        "45. Check if a given list is sorted in non-decreasing order.\n",
        "\n"
      ]
    },
    {
      "cell_type": "code",
      "execution_count": null,
      "metadata": {
        "colab": {
          "base_uri": "https://localhost:8080/"
        },
        "id": "K2KevrLD1842",
        "outputId": "35613ee0-b1bd-489c-fb08-148061ae6c92"
      },
      "outputs": [
        {
          "name": "stdout",
          "output_type": "stream",
          "text": [
            "True\n",
            "False\n"
          ]
        }
      ],
      "source": [
        "def is_sorted(lst):\n",
        "    for i in range(len(lst)-1):\n",
        "        if lst[i] > lst[i+1]:\n",
        "            return False\n",
        "    return True\n",
        "\n",
        "lst1 = [1, 2, 3, 4, 5]\n",
        "lst2 = [1, 3, 2, 4, 5]\n",
        "\n",
        "print(is_sorted(lst1)) # output: True\n",
        "print(is_sorted(lst2)) # output: False\n"
      ]
    },
    {
      "cell_type": "markdown",
      "metadata": {
        "id": "HfjkDjMlrpoN"
      },
      "source": [
        "\n",
        "\n",
        "46. Find the number of prime numbers in a given range.\n",
        "\n"
      ]
    },
    {
      "cell_type": "code",
      "execution_count": null,
      "metadata": {
        "colab": {
          "base_uri": "https://localhost:8080/"
        },
        "id": "tCLhL_hw2IRM",
        "outputId": "26d9f5f0-d665-42ce-d6e8-44afea21733b"
      },
      "outputs": [
        {
          "name": "stdout",
          "output_type": "stream",
          "text": [
            "8\n"
          ]
        }
      ],
      "source": [
        "def is_prime(n):\n",
        "    if n < 2:\n",
        "        return False\n",
        "    for i in range(2, int(n**0.5)+1):\n",
        "        if n % i == 0:\n",
        "            return False\n",
        "    return True\n",
        "\n",
        "def count_primes(start, end):\n",
        "    count = 0\n",
        "    for n in range(start, end+1):\n",
        "        if is_prime(n):\n",
        "            count += 1\n",
        "    return count\n",
        "\n",
        "start = 1\n",
        "end = 20\n",
        "\n",
        "print(count_primes(start, end))\n"
      ]
    },
    {
      "cell_type": "markdown",
      "metadata": {
        "id": "ehjBYyrErplE"
      },
      "source": [
        "\n",
        "\n",
        "47. Given a list of tuples, convert it into a dictionary.\n",
        "\n"
      ]
    },
    {
      "cell_type": "code",
      "execution_count": null,
      "metadata": {
        "colab": {
          "base_uri": "https://localhost:8080/"
        },
        "id": "rS_QFrg12X6h",
        "outputId": "b249a893-a68c-4804-8773-e8f37b7710de"
      },
      "outputs": [
        {
          "name": "stdout",
          "output_type": "stream",
          "text": [
            "{'a': 1, 'b': 2, 'c': 3}\n"
          ]
        }
      ],
      "source": [
        "lst = [('a', 1), ('b', 2), ('c', 3)]\n",
        "\n",
        "dict = {key: value for (key, value) in lst}\n",
        "\n",
        "print(dict)\n",
        "\n"
      ]
    },
    {
      "cell_type": "markdown",
      "metadata": {
        "id": "EaFXHyOBrphl"
      },
      "source": [
        "\n",
        "\n",
        "48. Check if a given string is a palindrome ignoring spaces.\n",
        "\n"
      ]
    },
    {
      "cell_type": "code",
      "execution_count": null,
      "metadata": {
        "colab": {
          "base_uri": "https://localhost:8080/"
        },
        "id": "WygX9en32k5C",
        "outputId": "74865a3f-26bf-412c-e51a-a7afad09ea5c"
      },
      "outputs": [
        {
          "name": "stdout",
          "output_type": "stream",
          "text": [
            "True\n",
            "False\n"
          ]
        }
      ],
      "source": [
        "def is_palindrome(s):\n",
        "    s = s.replace(' ', '')\n",
        "    return s == s[::-1]\n",
        "\n",
        "s1 = 'race car'\n",
        "s2 = 'hello world'\n",
        "\n",
        "print(is_palindrome(s1))\n",
        "print(is_palindrome(s2))\n",
        "\n"
      ]
    },
    {
      "cell_type": "markdown",
      "metadata": {
        "id": "HZkyYB7Xrpd2"
      },
      "source": [
        "\n",
        "\n",
        "49. Given a string, count the number of uppercase and lowercase letters.\n",
        "\n"
      ]
    },
    {
      "cell_type": "code",
      "execution_count": null,
      "metadata": {
        "colab": {
          "base_uri": "https://localhost:8080/"
        },
        "id": "LeXh_IYE20mH",
        "outputId": "5714ba3a-fa48-47da-8e97-b4a32947a253"
      },
      "outputs": [
        {
          "name": "stdout",
          "output_type": "stream",
          "text": [
            "(2, 8)\n"
          ]
        }
      ],
      "source": [
        "def count_case(s):\n",
        "    upper_count = 0\n",
        "    lower_count = 0\n",
        "    for c in s:\n",
        "        if c.isupper():\n",
        "            upper_count += 1\n",
        "        elif c.islower():\n",
        "            lower_count += 1\n",
        "    return (upper_count, lower_count)\n",
        "\n",
        "s = 'Hello World'\n",
        "\n",
        "print(count_case(s))\n"
      ]
    },
    {
      "cell_type": "markdown",
      "metadata": {
        "id": "zsTT0FABrpa1"
      },
      "source": [
        "\n",
        "\n",
        "50. Write a program to remove duplicate characters from a string."
      ]
    },
    {
      "cell_type": "code",
      "execution_count": null,
      "metadata": {
        "colab": {
          "base_uri": "https://localhost:8080/"
        },
        "id": "HEzwFlNl3AcG",
        "outputId": "15edb354-182f-4371-8514-3e0b680a46e9"
      },
      "outputs": [
        {
          "name": "stdout",
          "output_type": "stream",
          "text": [
            "helo wrd\n"
          ]
        }
      ],
      "source": [
        "def remove_duplicates(s):\n",
        "    new_s = ''\n",
        "    for c in s:\n",
        "        if c not in new_s:\n",
        "            new_s += c\n",
        "    return new_s\n",
        "\n",
        "s = 'hello world'\n",
        "\n",
        "print(remove_duplicates(s))\n"
      ]
    },
    {
      "cell_type": "markdown",
      "metadata": {
        "id": "gbmXV-DH3SGz"
      },
      "source": [
        "**Set-2**"
      ]
    },
    {
      "cell_type": "markdown",
      "metadata": {
        "id": "aSFVRlmS3RUG"
      },
      "source": [
        "1. Write a function that takes two numbers as input and returns their sum.\n",
        "\n"
      ]
    },
    {
      "cell_type": "code",
      "execution_count": null,
      "metadata": {
        "colab": {
          "background_save": true
        },
        "id": "xnKH72U1JB9O",
        "outputId": "c76c0e21-5bde-4d1a-8a63-2f05bb42cc68"
      },
      "outputs": [
        {
          "name": "stdout",
          "output_type": "stream",
          "text": [
            "The sum is: 26.2\n"
          ]
        }
      ],
      "source": [
        "def calculate_sum(a, b):\n",
        "    return a + b\n",
        "\n",
        "# Take user input for the two numbers\n",
        "num1 = float(input(\"Enter the first number: \"))\n",
        "num2 = float(input(\"Enter the second number: \"))\n",
        "\n",
        "# Calculate the sum of the two numbers\n",
        "result = calculate_sum(num1, num2)\n",
        "print(\"The sum is:\", result)\n"
      ]
    },
    {
      "cell_type": "markdown",
      "metadata": {
        "id": "ixvOVFWm3jmn"
      },
      "source": [
        "\n",
        "\n",
        "2. Write a function to calculate the factorial of a given number.\n",
        "\n"
      ]
    },
    {
      "cell_type": "code",
      "source": [
        "def factorial(n):\n",
        "    if n == 0:\n",
        "        return 1\n",
        "    else:\n",
        "        return n * factorial(n-1)\n",
        "\n",
        "\n",
        "result = factorial(5)\n",
        "print(result)"
      ],
      "metadata": {
        "colab": {
          "base_uri": "https://localhost:8080/"
        },
        "id": "pFB4YK3unqpd",
        "outputId": "38f65cc4-54f4-47a0-f22d-c58eec51d2e0"
      },
      "execution_count": 10,
      "outputs": [
        {
          "output_type": "stream",
          "name": "stdout",
          "text": [
            "120\n"
          ]
        }
      ]
    },
    {
      "cell_type": "markdown",
      "metadata": {
        "id": "9oHkV5oS3kCI"
      },
      "source": [
        "\n",
        "\n",
        "3. Write a function to check if a given number is prime or not.\n",
        "\n",
        "."
      ]
    },
    {
      "cell_type": "code",
      "source": [
        "def is_prime(n):\n",
        "    if n <= 1:\n",
        "        return False\n",
        "    for i in range(2, int(n ** 0.5) + 1):\n",
        "        if n % i == 0:\n",
        "            return False\n",
        "    return True\n",
        "result = is_prime(17)\n",
        "print(result)"
      ],
      "metadata": {
        "colab": {
          "base_uri": "https://localhost:8080/"
        },
        "id": "-KlozVx7oZ4h",
        "outputId": "10758501-380d-497b-f87f-a2c262016614"
      },
      "execution_count": 11,
      "outputs": [
        {
          "output_type": "stream",
          "name": "stdout",
          "text": [
            "True\n"
          ]
        }
      ]
    },
    {
      "cell_type": "markdown",
      "metadata": {
        "id": "w1fOOvU13lqs"
      },
      "source": [
        "\n",
        "\n",
        "4. Write a function that takes a string as input and returns the reverse of the string.\n",
        "\n"
      ]
    },
    {
      "cell_type": "code",
      "source": [
        "def reverse_string(s):\n",
        "    return s[::-1]\n",
        "result = reverse_string(\"Hello, World!\")\n",
        "print(result)\n"
      ],
      "metadata": {
        "colab": {
          "base_uri": "https://localhost:8080/"
        },
        "id": "zZbGZHJHpAj-",
        "outputId": "6ad810c1-ffa3-41d6-a778-cea2eb639a03"
      },
      "execution_count": 12,
      "outputs": [
        {
          "output_type": "stream",
          "name": "stdout",
          "text": [
            "!dlroW ,olleH\n"
          ]
        }
      ]
    },
    {
      "cell_type": "markdown",
      "metadata": {
        "id": "UjhIvwNT3yiu"
      },
      "source": [
        "\n",
        "\n",
        "5. Write a function that takes a list of numbers as input and returns the largest number in the list.\n",
        "\n"
      ]
    },
    {
      "cell_type": "code",
      "source": [
        "def find_largest(numbers):\n",
        "    largest = numbers[0]\n",
        "    for num in numbers:\n",
        "        if num > largest:\n",
        "            largest = num\n",
        "    return largest\n",
        "result = find_largest([3, 7, 2, 9, 1])\n",
        "print(result)\n"
      ],
      "metadata": {
        "colab": {
          "base_uri": "https://localhost:8080/"
        },
        "id": "UuJrDF_DpNCG",
        "outputId": "ef2a6b1d-b416-4b36-d1f1-6c9466311c99"
      },
      "execution_count": 13,
      "outputs": [
        {
          "output_type": "stream",
          "name": "stdout",
          "text": [
            "9\n"
          ]
        }
      ]
    },
    {
      "cell_type": "markdown",
      "metadata": {
        "id": "u0F3gG0b4H2F"
      },
      "source": [
        "\n",
        "6. Write a function that takes a list of strings as input and returns the shortest string in the list.\n"
      ]
    },
    {
      "cell_type": "code",
      "source": [
        "def find_shortest(strings):\n",
        "    shortest = strings[0]\n",
        "    for string in strings:\n",
        "        if len(string) < len(shortest):\n",
        "            shortest = string\n",
        "    return shortest\n",
        "result = find_shortest([\"apple\", \"banana\", \"pear\", \"grape\"])\n",
        "print(result)\n"
      ],
      "metadata": {
        "colab": {
          "base_uri": "https://localhost:8080/"
        },
        "id": "GuVew_JJplM0",
        "outputId": "52819d9c-0244-4f66-d240-66511cf83da9"
      },
      "execution_count": 15,
      "outputs": [
        {
          "output_type": "stream",
          "name": "stdout",
          "text": [
            "pear\n"
          ]
        }
      ]
    },
    {
      "cell_type": "markdown",
      "metadata": {
        "id": "PjaBjass4Ia4"
      },
      "source": [
        "\n",
        "7. Write a function to count the number of vowels in a given string.\n",
        "\n"
      ]
    },
    {
      "cell_type": "code",
      "source": [
        "def count_vowels(s):\n",
        "    vowels = \"aeiouAEIOU\"\n",
        "    count = 0\n",
        "    for char in s:\n",
        "        if char in vowels:\n",
        "            count += 1\n",
        "    return count\n",
        "result = count_vowels(\"Hello, World!\")\n",
        "print(result)"
      ],
      "metadata": {
        "colab": {
          "base_uri": "https://localhost:8080/"
        },
        "id": "HubWID06qZmG",
        "outputId": "9242fe4c-bcf7-450f-c97f-547f66443747"
      },
      "execution_count": 16,
      "outputs": [
        {
          "output_type": "stream",
          "name": "stdout",
          "text": [
            "3\n"
          ]
        }
      ]
    },
    {
      "cell_type": "markdown",
      "metadata": {
        "id": "-wt_zIys4KOi"
      },
      "source": [
        "\n",
        "8. Write a function that takes a list of numbers as input and returns a new list with only the even numbers.\n",
        "\n"
      ]
    },
    {
      "cell_type": "code",
      "source": [
        "def filter_even(numbers):\n",
        "    even_numbers = []\n",
        "    for num in numbers:\n",
        "        if num % 2 == 0:\n",
        "            even_numbers.append(num)\n",
        "    return even_numbers\n",
        "result = filter_even([3, 7, 2, 9, 1, 6])\n",
        "print(result)\n"
      ],
      "metadata": {
        "colab": {
          "base_uri": "https://localhost:8080/"
        },
        "id": "Hm-D2vugq-BZ",
        "outputId": "baabfe95-bec1-41d6-fd8a-60b191b012f1"
      },
      "execution_count": 17,
      "outputs": [
        {
          "output_type": "stream",
          "name": "stdout",
          "text": [
            "[2, 6]\n"
          ]
        }
      ]
    },
    {
      "cell_type": "markdown",
      "metadata": {
        "id": "JVBbYYum4LXT"
      },
      "source": [
        "\n",
        "9. Write a function to check if a given string is a palindrome.\n"
      ]
    },
    {
      "cell_type": "code",
      "source": [
        "def is_palindrome(s):\n",
        "    s = s.lower()\n",
        "    reversed_s = s[::-1]\n",
        "    return s == reversed_s\n",
        "result = is_palindrome(\"racecar\")\n",
        "print(result)\n",
        "\n"
      ],
      "metadata": {
        "colab": {
          "base_uri": "https://localhost:8080/"
        },
        "id": "QRHBMzbJrJ-p",
        "outputId": "1d4ffc93-7cc3-421c-d58b-ff3a4441c8cb"
      },
      "execution_count": 18,
      "outputs": [
        {
          "output_type": "stream",
          "name": "stdout",
          "text": [
            "True\n"
          ]
        }
      ]
    },
    {
      "cell_type": "markdown",
      "metadata": {
        "id": "-N-aafnY4MeQ"
      },
      "source": [
        "\n",
        "10. Write a function that takes a list of strings as input and returns a new list with the strings sorted in alphabetical order."
      ]
    },
    {
      "cell_type": "code",
      "source": [
        "def sort_strings(strings):\n",
        "    sorted_strings = sorted(strings)\n",
        "    return sorted_strings\n",
        "result = sort_strings([\"banana\", \"apple\", \"pear\", \"grape\"])\n",
        "print(result)\n",
        "\n"
      ],
      "metadata": {
        "colab": {
          "base_uri": "https://localhost:8080/"
        },
        "id": "FDbYYwqsrTc8",
        "outputId": "0667ec35-b273-493f-d7db-c4e356afacdb"
      },
      "execution_count": 19,
      "outputs": [
        {
          "output_type": "stream",
          "name": "stdout",
          "text": [
            "['apple', 'banana', 'grape', 'pear']\n"
          ]
        }
      ]
    },
    {
      "cell_type": "markdown",
      "metadata": {
        "id": "OhLoQA-c4yLX"
      },
      "source": [
        "11. Write a function to calculate the area of a circle given its radius.\n"
      ]
    },
    {
      "cell_type": "code",
      "source": [
        "import math\n",
        "\n",
        "def calculate_area(radius):\n",
        "    area = math.pi * radius ** 2\n",
        "    return area\n",
        "result = calculate_area(5)\n",
        "print(result)\n",
        "\n"
      ],
      "metadata": {
        "colab": {
          "base_uri": "https://localhost:8080/"
        },
        "id": "ukHvomIzrnN3",
        "outputId": "43b5e2e7-b1ec-4813-d548-7e269f981163"
      },
      "execution_count": 20,
      "outputs": [
        {
          "output_type": "stream",
          "name": "stdout",
          "text": [
            "78.53981633974483\n"
          ]
        }
      ]
    },
    {
      "cell_type": "markdown",
      "metadata": {
        "id": "LR-eG7WK42rx"
      },
      "source": [
        "\n",
        "12. Write a function to calculate the Fibonacci series up to a given number.\n"
      ]
    },
    {
      "cell_type": "code",
      "source": [
        "def fibonacci_series(n):\n",
        "    if n <= 0:\n",
        "        return []\n",
        "    elif n == 1:\n",
        "        return [0]\n",
        "    elif n == 2:\n",
        "        return [0, 1]\n",
        "    else:\n",
        "        fib = [0, 1]\n",
        "        for i in range(2, n):\n",
        "            fib.append(fib[i-1] + fib[i-2])\n",
        "        return fib\n",
        "result = fibonacci_series(10)\n",
        "print(result)\n"
      ],
      "metadata": {
        "colab": {
          "base_uri": "https://localhost:8080/"
        },
        "id": "PF-VRdlAr6e5",
        "outputId": "ebbb8454-04e7-46f5-e0bd-111accd9f5df"
      },
      "execution_count": 21,
      "outputs": [
        {
          "output_type": "stream",
          "name": "stdout",
          "text": [
            "[0, 1, 1, 2, 3, 5, 8, 13, 21, 34]\n"
          ]
        }
      ]
    },
    {
      "cell_type": "markdown",
      "metadata": {
        "id": "Etj3qcVF42Cy"
      },
      "source": [
        "\n",
        "13. Write a function that takes a list of numbers as input and returns the sum of all the numbers."
      ]
    },
    {
      "cell_type": "code",
      "source": [
        "def calculate_sum(numbers):\n",
        "    total = sum(numbers)\n",
        "    return total\n",
        "result = calculate_sum([1, 2, 3, 4, 5])\n",
        "print(result)\n"
      ],
      "metadata": {
        "colab": {
          "base_uri": "https://localhost:8080/"
        },
        "id": "mJn2_UD6sFO5",
        "outputId": "9330ce29-85bb-4216-dc6f-d25fc3f26f1d"
      },
      "execution_count": 22,
      "outputs": [
        {
          "output_type": "stream",
          "name": "stdout",
          "text": [
            "15\n"
          ]
        }
      ]
    },
    {
      "cell_type": "markdown",
      "metadata": {
        "id": "AaN2eESb41Ry"
      },
      "source": [
        "\n",
        "14. Write a function to find the maximum occurring character in a given string."
      ]
    },
    {
      "cell_type": "code",
      "source": [
        "def find_max_occuring_char(string):\n",
        "    char_count = {}\n",
        "    for char in string:\n",
        "        if char in char_count:\n",
        "            char_count[char] += 1\n",
        "        else:\n",
        "            char_count[char] = 1\n",
        "    max_count = 0\n",
        "    max_char = ''\n",
        "    for char, count in char_count.items():\n",
        "        if count > max_count:\n",
        "            max_count = count\n",
        "            max_char = char\n",
        "    return max_char\n",
        "result = find_max_occuring_char(\"hello world\")\n",
        "print(result)\n"
      ],
      "metadata": {
        "colab": {
          "base_uri": "https://localhost:8080/"
        },
        "id": "uBm58PJ_sNOD",
        "outputId": "a2882b26-f4e3-4d72-a8eb-410d9e3126cc"
      },
      "execution_count": 23,
      "outputs": [
        {
          "output_type": "stream",
          "name": "stdout",
          "text": [
            "l\n"
          ]
        }
      ]
    },
    {
      "cell_type": "markdown",
      "metadata": {
        "id": "03PoPvV040Xh"
      },
      "source": [
        "\n",
        "15. Write a function that takes a list of numbers as input and returns the product of all the numbers."
      ]
    },
    {
      "cell_type": "code",
      "source": [
        "from functools import reduce\n",
        "\n",
        "def calculate_product(numbers):\n",
        "    product = reduce((lambda x, y: x * y), numbers)\n",
        "    return product\n",
        "result = calculate_product([1, 2, 3, 4, 5])\n",
        "print(result)\n"
      ],
      "metadata": {
        "colab": {
          "base_uri": "https://localhost:8080/"
        },
        "id": "ylrLW-dOssIZ",
        "outputId": "89db4c23-4acc-4c7f-b8f0-5d49ce59872f"
      },
      "execution_count": 24,
      "outputs": [
        {
          "output_type": "stream",
          "name": "stdout",
          "text": [
            "120\n"
          ]
        }
      ]
    },
    {
      "cell_type": "markdown",
      "metadata": {
        "id": "gZuxDLIR5CqF"
      },
      "source": [
        "\n",
        "16. Write a function to check if two strings are anagrams of each other.\n"
      ]
    },
    {
      "cell_type": "code",
      "source": [
        "def check_anagram(string1, string2):\n",
        "    if sorted(string1) == sorted(string2):\n",
        "        return True\n",
        "    else:\n",
        "        return False\n",
        "result = check_anagram(\"listen\", \"silent\")\n",
        "print(result)\n"
      ],
      "metadata": {
        "colab": {
          "base_uri": "https://localhost:8080/"
        },
        "id": "lONr8GZvsyM4",
        "outputId": "ce435476-5d2d-4688-e353-e335fd772f46"
      },
      "execution_count": 25,
      "outputs": [
        {
          "output_type": "stream",
          "name": "stdout",
          "text": [
            "True\n"
          ]
        }
      ]
    },
    {
      "cell_type": "markdown",
      "metadata": {
        "id": "grW1bk4y5Bi-"
      },
      "source": [
        "\n",
        "17. Write a function that takes a list of numbers as input and returns the second smallest number in the list.\n"
      ]
    },
    {
      "cell_type": "code",
      "source": [
        "def find_second_smallest(numbers):\n",
        "    unique_numbers = list(set(numbers))\n",
        "    unique_numbers.sort()\n",
        "    if len(unique_numbers) < 2:\n",
        "        return None\n",
        "    else:\n",
        "        return unique_numbers[1]\n",
        "\n",
        "result = find_second_smallest([1, 2, 3, 4, 5])\n",
        "print(result)"
      ],
      "metadata": {
        "colab": {
          "base_uri": "https://localhost:8080/"
        },
        "id": "ImgqO4uss-4a",
        "outputId": "4a211e13-5b29-49d3-b389-e2f48507b1a6"
      },
      "execution_count": 27,
      "outputs": [
        {
          "output_type": "stream",
          "name": "stdout",
          "text": [
            "2\n"
          ]
        }
      ]
    },
    {
      "cell_type": "code",
      "source": [
        "def find_second_smallest(numbers):\n",
        "\n",
        "    unique_numbers = sorted(set(numbers))\n",
        "    if len(unique_numbers) < 2:\n",
        "        return None\n",
        "    return unique_numbers[1]\n",
        "\n",
        "user_input = input(\"Enter a list of numbers separated by spaces: \")\n",
        "numbers = list(map(float, user_input.split()))\n",
        "second_smallest = find_second_smallest(numbers)\n",
        "\n",
        "if second_smallest is None:\n",
        "    print(\"There is no second smallest number in the list.\")\n",
        "else:\n",
        "    print(\"The second smallest number is:\", second_smallest)"
      ],
      "metadata": {
        "colab": {
          "base_uri": "https://localhost:8080/"
        },
        "id": "yR_g2-BQQUAd",
        "outputId": "6967e6fb-daa2-40e3-fa83-0dd40b8a570e"
      },
      "execution_count": 3,
      "outputs": [
        {
          "output_type": "stream",
          "name": "stdout",
          "text": [
            "Enter a list of numbers separated by spaces: 3 5 67 43 54\n",
            "The second smallest number is: 5.0\n"
          ]
        }
      ]
    },
    {
      "cell_type": "markdown",
      "source": [],
      "metadata": {
        "id": "YkP0y941Rsmh"
      }
    },
    {
      "cell_type": "markdown",
      "metadata": {
        "id": "3WvcWFjy5Ay7"
      },
      "source": [
        "\n",
        "18. Write a function to reverse the order of words in a given sentence.\n"
      ]
    },
    {
      "cell_type": "code",
      "source": [
        "def reverse_sentence(sentence):\n",
        "    words = sentence.split()\n",
        "    words.reverse()\n",
        "    reversed_sentence = \" \".join(words)\n",
        "    return reversed_sentence\n",
        "result = reverse_sentence(\"Hello world\")\n",
        "print(result)\n"
      ],
      "metadata": {
        "colab": {
          "base_uri": "https://localhost:8080/"
        },
        "id": "9RsIUF6MthIK",
        "outputId": "0e9cbab9-f517-4a1f-e532-dc6d0dfce55c"
      },
      "execution_count": 29,
      "outputs": [
        {
          "output_type": "stream",
          "name": "stdout",
          "text": [
            "world Hello\n"
          ]
        }
      ]
    },
    {
      "cell_type": "markdown",
      "metadata": {
        "id": "gG9nP2Se4_4c"
      },
      "source": [
        "19. Write a function to check if a given number is a perfect square.\n"
      ]
    },
    {
      "cell_type": "code",
      "source": [
        "def is_perfect_square(number):\n",
        "    square_root = int(number ** 0.5)\n",
        "    if square_root ** 2 == number:\n",
        "        return True\n",
        "    else:\n",
        "        return False\n",
        "result = is_perfect_square(16)\n",
        "print(result)\n"
      ],
      "metadata": {
        "colab": {
          "base_uri": "https://localhost:8080/"
        },
        "id": "pGw5TdEBtu9n",
        "outputId": "6bf4f0d9-548f-48da-df0c-97b22015b054"
      },
      "execution_count": 30,
      "outputs": [
        {
          "output_type": "stream",
          "name": "stdout",
          "text": [
            "True\n"
          ]
        }
      ]
    },
    {
      "cell_type": "markdown",
      "metadata": {
        "id": "cyJtAQZl4--y"
      },
      "source": [
        "\n",
        "20. Write a function that takes a list of strings as input and returns the count of words in the list.\n"
      ]
    },
    {
      "cell_type": "code",
      "source": [
        "def count_words_in_list(strings):\n",
        "    word_count = 0\n",
        "    for string in strings:\n",
        "        words = string.split()\n",
        "        word_count += len(words)\n",
        "    return word_count\n",
        "result = count_words_in_list([\"Hello world\", \"Python is awesome\"])\n",
        "print(result)\n"
      ],
      "metadata": {
        "colab": {
          "base_uri": "https://localhost:8080/"
        },
        "id": "mh4r8913t5oN",
        "outputId": "cd1eda10-083a-4bc9-b42c-6a1b5e8f386d"
      },
      "execution_count": 31,
      "outputs": [
        {
          "output_type": "stream",
          "name": "stdout",
          "text": [
            "5\n"
          ]
        }
      ]
    },
    {
      "cell_type": "markdown",
      "metadata": {
        "id": "1pgav5F04-RT"
      },
      "source": [
        "\n",
        "21. Write a function to remove all duplicates from a given list.\n"
      ]
    },
    {
      "cell_type": "code",
      "source": [
        "def remove_duplicates(numbers):\n",
        "    unique_numbers = list(set(numbers))\n",
        "    return unique_numbers\n",
        "result = remove_duplicates([1, 2, 2, 3, 3, 3, 4, 4, 4, 4])\n",
        "print(result)\n"
      ],
      "metadata": {
        "colab": {
          "base_uri": "https://localhost:8080/"
        },
        "id": "LrI8AGjyuDa_",
        "outputId": "bf5f4689-b11d-4889-ce44-49fc8e75b94a"
      },
      "execution_count": 32,
      "outputs": [
        {
          "output_type": "stream",
          "name": "stdout",
          "text": [
            "[1, 2, 3, 4]\n"
          ]
        }
      ]
    },
    {
      "cell_type": "markdown",
      "metadata": {
        "id": "dpZJGXmE49gp"
      },
      "source": [
        "\n",
        "22. Write a function to find the second largest number in a given list.\n"
      ]
    },
    {
      "cell_type": "code",
      "source": [
        "def find_second_largest(numbers):\n",
        "    unique_numbers = list(set(numbers))\n",
        "    unique_numbers.sort()\n",
        "    if len(unique_numbers) < 2:\n",
        "        return None\n",
        "    else:\n",
        "        return unique_numbers[-2]\n",
        "result = find_second_largest([1, 2, 3, 4, 5])\n",
        "print(result)\n"
      ],
      "metadata": {
        "colab": {
          "base_uri": "https://localhost:8080/"
        },
        "id": "r8tRQ6ocuNCt",
        "outputId": "e2973038-fe19-42e5-f27a-22062a3843a6"
      },
      "execution_count": 33,
      "outputs": [
        {
          "output_type": "stream",
          "name": "stdout",
          "text": [
            "4\n"
          ]
        }
      ]
    },
    {
      "cell_type": "markdown",
      "metadata": {
        "id": "RZOUEWaV481T"
      },
      "source": [
        "\n",
        "22. Write a function to find the second largest number in a given list.\n"
      ]
    },
    {
      "cell_type": "code",
      "source": [
        "def find_second_largest(numbers):\n",
        "    largest = None\n",
        "    second_largest = None\n",
        "    for number in numbers:\n",
        "        if largest is None or number > largest:\n",
        "            second_largest = largest\n",
        "            largest = number\n",
        "        elif second_largest is None or number > second_largest:\n",
        "            second_largest = number\n",
        "    return second_largest\n",
        "result = find_second_largest([1, 2, 3, 4, 5])\n",
        "print(result)\n"
      ],
      "metadata": {
        "colab": {
          "base_uri": "https://localhost:8080/"
        },
        "id": "JNnJUm_4uZ9k",
        "outputId": "a160ca76-11bd-4ac2-fd95-e366ae10e427"
      },
      "execution_count": 34,
      "outputs": [
        {
          "output_type": "stream",
          "name": "stdout",
          "text": [
            "4\n"
          ]
        }
      ]
    },
    {
      "cell_type": "markdown",
      "metadata": {
        "id": "bRkO61K447sJ"
      },
      "source": [
        "\n",
        "23. Write a function that takes a list of strings as input and returns the longest string in the list."
      ]
    },
    {
      "cell_type": "code",
      "source": [
        "def find_longest_string(strings):\n",
        "    longest_string = \"\"\n",
        "    for string in strings:\n",
        "        if len(string) > len(longest_string):\n",
        "            longest_string = string\n",
        "    return longest_string\n",
        "result = find_longest_string([\"Hello\", \"world\", \"Python\", \"is\", \"awesome\"])\n",
        "print(result)\n"
      ],
      "metadata": {
        "colab": {
          "base_uri": "https://localhost:8080/"
        },
        "id": "AYrqaQLwupVY",
        "outputId": "e4e089db-598b-4c27-a6a3-e75858f248fd"
      },
      "execution_count": 35,
      "outputs": [
        {
          "output_type": "stream",
          "name": "stdout",
          "text": [
            "awesome\n"
          ]
        }
      ]
    },
    {
      "cell_type": "markdown",
      "metadata": {
        "id": "_gKdwG0Q47In"
      },
      "source": [
        "24. Write a function to find the GCD (Greatest Common Divisor) of two numbers."
      ]
    },
    {
      "cell_type": "code",
      "source": [
        "def find_gcd(a, b):\n",
        "    if b == 0:\n",
        "        return a\n",
        "    else:\n",
        "        return find_gcd(b, a % b)\n",
        "result = find_gcd(24, 36)\n",
        "print(result)\n"
      ],
      "metadata": {
        "colab": {
          "base_uri": "https://localhost:8080/"
        },
        "id": "7dlKMfpwu0ZX",
        "outputId": "5c2b1321-507c-4173-cbae-70a6c7d52c16"
      },
      "execution_count": 36,
      "outputs": [
        {
          "output_type": "stream",
          "name": "stdout",
          "text": [
            "12\n"
          ]
        }
      ]
    },
    {
      "cell_type": "markdown",
      "metadata": {
        "id": "Hv_zl67L45NM"
      },
      "source": [
        "\n",
        "25. Write a function that takes a string as input and counts the frequency of each character."
      ]
    },
    {
      "cell_type": "code",
      "source": [
        "def count_characters(string):\n",
        "    frequency = {}\n",
        "    for char in string:\n",
        "        if char in frequency:\n",
        "            frequency[char] += 1\n",
        "        else:\n",
        "            frequency[char] = 1\n",
        "    return frequency\n",
        "result = count_characters(\"Hello, world!\")\n",
        "print(result)\n"
      ],
      "metadata": {
        "colab": {
          "base_uri": "https://localhost:8080/"
        },
        "id": "r8RyG3Zsu59-",
        "outputId": "9c476430-c11e-46f1-eb7b-ff492bf4b423"
      },
      "execution_count": 38,
      "outputs": [
        {
          "output_type": "stream",
          "name": "stdout",
          "text": [
            "{'H': 1, 'e': 1, 'l': 3, 'o': 2, ',': 1, ' ': 1, 'w': 1, 'r': 1, 'd': 1, '!': 1}\n"
          ]
        }
      ]
    }
  ],
  "metadata": {
    "colab": {
      "provenance": []
    },
    "kernelspec": {
      "display_name": "Python 3",
      "name": "python3"
    },
    "language_info": {
      "name": "python"
    }
  },
  "nbformat": 4,
  "nbformat_minor": 0
}